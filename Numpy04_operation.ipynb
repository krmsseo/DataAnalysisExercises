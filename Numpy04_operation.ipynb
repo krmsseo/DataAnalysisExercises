{
 "cells": [
  {
   "cell_type": "markdown",
   "metadata": {},
   "source": [
    "## 3. 배열 연산\n",
    "\n",
    "배열과 배열의 연산, 배열과 스칼라 연산\n",
    "\n",
    "### 1) 연산자를 이용한 연산"
   ]
  },
  {
   "cell_type": "code",
   "execution_count": 1,
   "metadata": {},
   "outputs": [
    {
     "name": "stdout",
     "output_type": "stream",
     "text": [
      "[2 3 4 5 6]\n",
      "[ 2  4  6  8 10]\n",
      "[1 0 1 0 1]\n"
     ]
    }
   ],
   "source": [
    "import numpy as np\n",
    "\n",
    "x = np.array([1,2,3,4,5])\n",
    "print(x+1)\n",
    "print(x*2)\n",
    "print(x%2)"
   ]
  },
  {
   "cell_type": "code",
   "execution_count": 2,
   "metadata": {},
   "outputs": [
    {
     "name": "stdout",
     "output_type": "stream",
     "text": [
      "[6 6 6 6 6]\n",
      "[5 8 9 8 5]\n",
      "[ 1 16 27 16  5]\n"
     ]
    }
   ],
   "source": [
    "y = np.array([5,4,3,2,1])\n",
    "print(x+y)\n",
    "print(x*y)\n",
    "print(x**y)"
   ]
  },
  {
   "cell_type": "markdown",
   "metadata": {},
   "source": [
    "### 2) 함수를 이용한 연산\n",
    "\n",
    "다양한 기능 제공"
   ]
  },
  {
   "cell_type": "code",
   "execution_count": 3,
   "metadata": {},
   "outputs": [
    {
     "name": "stdout",
     "output_type": "stream",
     "text": [
      "[6 6 6 6 6]\n",
      "[-4 -2  0  2  4]\n",
      "[5 8 9 8 5]\n",
      "[0.2 0.5 1.  2.  5. ]\n",
      "[ 1 16 27 16  5]\n",
      "[1 2 0 0 0]\n"
     ]
    }
   ],
   "source": [
    "print(np.add(x, y))\n",
    "print(np.subtract(x, y))\n",
    "print(np.multiply(x, y))\n",
    "print(np.divide(x, y))\n",
    "print(np.power(x, y))\n",
    "print(np.mod(x, y))"
   ]
  },
  {
   "cell_type": "code",
   "execution_count": 4,
   "metadata": {},
   "outputs": [
    {
     "name": "stdout",
     "output_type": "stream",
     "text": [
      "[2.23606798 2.         1.73205081 1.41421356 1.        ]\n",
      "[25 16  9  4  1]\n",
      "[148.4131591   54.59815003  20.08553692   7.3890561    2.71828183]\n",
      "[1.60943791 1.38629436 1.09861229 0.69314718 0.        ]\n",
      "[0.69897    0.60205999 0.47712125 0.30103    0.        ]\n",
      "[2.32192809 2.         1.5849625  1.         0.        ]\n"
     ]
    }
   ],
   "source": [
    "print(np.sqrt(y))\n",
    "print(np.square(y))\n",
    "print(np.exp(y))\n",
    "print(np.log(y))\n",
    "print(np.log10(y))\n",
    "print(np.log2(y))"
   ]
  },
  {
   "cell_type": "markdown",
   "metadata": {},
   "source": [
    "## 4. 수학 함수\n",
    "\n",
    "### 1) 실수 "
   ]
  },
  {
   "cell_type": "markdown",
   "metadata": {},
   "source": [
    "a = np.array([3.14, -5.21, 9.69, -1.87, 0])\n",
    "print(np.floor(a))\n",
    "print(np.rint(a))\n",
    "print(np.around(a))"
   ]
  },
  {
   "cell_type": "markdown",
   "metadata": {},
   "source": [
    "### 2) 통계 함수"
   ]
  },
  {
   "cell_type": "code",
   "execution_count": 9,
   "metadata": {},
   "outputs": [
    {
     "name": "stdout",
     "output_type": "stream",
     "text": [
      "[-0.10102366 -0.03994026 -0.0304315   1.41727608  0.14437038  0.47642009\n",
      "  0.54176839 -0.00882779  1.16958908  0.57210992 -1.52924008  1.12067876\n",
      " -1.36612141  0.38268883  0.65628235  1.11181087 -1.48489703  0.8334981\n",
      " -0.3412575   0.75328857  1.84537236 -1.35064549 -0.73803249  1.66590758\n",
      " -0.09281805  0.12641131  0.61032594  0.39412599 -0.16977476  0.61107808\n",
      "  0.1232323  -1.57064812  0.64564783 -0.13245538  0.16472821 -0.17006966\n",
      "  0.88109914  0.68853497  2.10621599  0.69864216 -0.29594247 -0.54698061\n",
      "  0.427897   -1.52665364 -0.42875796  0.69755188 -0.85147912 -0.03521093\n",
      "  0.54669017  0.53561842  0.80596752 -0.04660778  0.90032304  0.16482206\n",
      "  0.34138629  0.91530643 -0.37705784  0.07752219 -0.61817192  0.71464581\n",
      " -1.39191613 -0.52728932  0.82844165 -0.26046061 -0.83383631  1.76824894\n",
      "  0.48295801  0.1613443  -0.68072363  0.7154914  -0.92276478  0.71464928\n",
      " -0.68534981 -0.53634818  0.61083852  0.49754796 -0.64757263  1.67911652\n",
      " -0.69053758 -0.48764995  0.82106812  0.49975985 -0.41229686 -0.9036536\n",
      "  0.66332548 -1.41752416 -0.8757439  -1.60357496  0.60394591  0.17722815\n",
      "  0.47073436 -0.18508753 -0.38970325 -0.5196535  -3.18661345  0.62216357\n",
      "  0.5599226  -1.24583485  0.08521188 -1.46569251]\n",
      "5.749999999999999\n",
      "5.749999999999999\n",
      "1.15\n",
      "1.15\n"
     ]
    }
   ],
   "source": [
    "nd = np.random.randn(100)\n",
    "print(nd)\n",
    "print(a.sum())\n",
    "print(np.sum(a))\n",
    "print(a.mean())\n",
    "print(np.mean(a))"
   ]
  },
  {
   "cell_type": "code",
   "execution_count": 10,
   "metadata": {},
   "outputs": [
    {
     "name": "stdout",
     "output_type": "stream",
     "text": [
      "1.0\n",
      "5.055377335075988\n",
      "25.55684\n"
     ]
    }
   ],
   "source": [
    "print(np.corrcoef(a))\n",
    "print(np.std(a))\n",
    "print(np.var(a))"
   ]
  },
  {
   "cell_type": "code",
   "execution_count": 11,
   "metadata": {},
   "outputs": [
    {
     "name": "stdout",
     "output_type": "stream",
     "text": [
      "[ 3.14 -2.07  7.62  5.75  5.75]\n",
      "[   3.14        -16.3594     -158.522586    296.43723582    0.        ]\n"
     ]
    }
   ],
   "source": [
    "print(np.cumsum(a))\n",
    "print(np.cumprod(a))"
   ]
  },
  {
   "cell_type": "code",
   "execution_count": 15,
   "metadata": {},
   "outputs": [
    {
     "name": "stdout",
     "output_type": "stream",
     "text": [
      "[[-0.35426555  0.46171359  0.10858876  1.01231329  0.13284005]\n",
      " [ 0.08991658  0.42610035 -0.4200068   0.74461028  0.59404395]\n",
      " [ 0.54441539 -1.6235372   0.07805301  0.75073554 -0.64542222]\n",
      " [ 0.43563004  0.20169246 -0.66019265 -1.09747265  0.75009089]]\n"
     ]
    }
   ],
   "source": [
    "nd2 = np.random.randn(4,5)\n",
    "print(nd2)"
   ]
  },
  {
   "cell_type": "code",
   "execution_count": 18,
   "metadata": {},
   "outputs": [
    {
     "name": "stdout",
     "output_type": "stream",
     "text": [
      "0.07649235587955087\n"
     ]
    }
   ],
   "source": [
    "print(nd2.mean())"
   ]
  },
  {
   "cell_type": "code",
   "execution_count": 19,
   "metadata": {},
   "outputs": [
    {
     "name": "stdout",
     "output_type": "stream",
     "text": [
      "[-0.35426555  0.10744804  0.2160368   1.22835009  1.36119014  1.45110672\n",
      "  1.87720707  1.45720027  2.20181055  2.7958545   3.34026989  1.71673269\n",
      "  1.7947857   2.54552124  1.90009903  2.33572906  2.53742153  1.87722888\n",
      "  0.77975622  1.52984712]\n"
     ]
    }
   ],
   "source": [
    "print(np.cumsum(nd2))"
   ]
  },
  {
   "cell_type": "code",
   "execution_count": 20,
   "metadata": {},
   "outputs": [
    {
     "data": {
      "text/plain": [
       "array([ 0.71569646, -0.53403079, -0.89355768,  1.41018645,  0.83155268])"
      ]
     },
     "execution_count": 20,
     "metadata": {},
     "output_type": "execute_result"
    }
   ],
   "source": [
    "nd2.sum(axis=0) ## 열 방향"
   ]
  },
  {
   "cell_type": "code",
   "execution_count": 21,
   "metadata": {},
   "outputs": [
    {
     "data": {
      "text/plain": [
       "array([ 1.36119014,  1.43466436, -0.89575547, -0.37025191])"
      ]
     },
     "execution_count": 21,
     "metadata": {},
     "output_type": "execute_result"
    }
   ],
   "source": [
    "nd2.sum(axis=1) ## 행 방향"
   ]
  },
  {
   "cell_type": "markdown",
   "metadata": {},
   "source": [
    "## 5. 논리 연산 및 행렬 연산(수학적 행렬 연산)\n",
    "\n",
    "### 1) 논리 연산"
   ]
  },
  {
   "cell_type": "code",
   "execution_count": 22,
   "metadata": {},
   "outputs": [],
   "source": [
    "a = np.array([0, 1, np.nan, 3, np.inf, np.NINF, np.PINF])"
   ]
  },
  {
   "cell_type": "code",
   "execution_count": 23,
   "metadata": {},
   "outputs": [
    {
     "name": "stdout",
     "output_type": "stream",
     "text": [
      "[  0.   1.  nan   3.  inf -inf  inf]\n",
      "[False False  True False False False False]\n",
      "[False False False False  True  True  True]\n",
      "[False False False False False  True False]\n",
      "[False False False False  True False  True]\n",
      "[ True  True False  True False False False]\n"
     ]
    }
   ],
   "source": [
    "print(a)\n",
    "print(np.isnan(a))\n",
    "print(np.isinf(a))\n",
    "print(np.isneginf(a))\n",
    "print(np.isposinf(a))\n",
    "print(np.isfinite(a))"
   ]
  },
  {
   "cell_type": "code",
   "execution_count": 24,
   "metadata": {},
   "outputs": [
    {
     "name": "stdout",
     "output_type": "stream",
     "text": [
      "[False False False False False]\n",
      "[ True  True  True  True  True]\n",
      "[False False  True  True  True]\n",
      "[False False  True  True  True]\n",
      "[ True  True False False False]\n",
      "[ True  True False False False]\n",
      "False\n",
      "True\n"
     ]
    }
   ],
   "source": [
    "a = np.array([1, 2, 3, 4, 5])\n",
    "b = np.array([3, 5, 1, 2, 4])\n",
    "c = np.array([3, 5, 1, 2, 4])\n",
    "\n",
    "print(np.equal(a, b))\n",
    "print(np.not_equal(a, b))\n",
    "print(np.greater(a, b))\n",
    "print(np.greater_equal(a, b))\n",
    "print(np.less(a, b))\n",
    "print(np.less_equal(a, b))\n",
    "print(np.array_equal(a, b))\n",
    "print(np.array_equal(b, c))"
   ]
  },
  {
   "cell_type": "markdown",
   "metadata": {},
   "source": [
    "### 2) 행렬 연산"
   ]
  },
  {
   "cell_type": "code",
   "execution_count": 25,
   "metadata": {},
   "outputs": [
    {
     "name": "stdout",
     "output_type": "stream",
     "text": [
      "[[5 8]\n",
      " [6 8]]\n",
      "[[9 1]\n",
      " [3 0]]\n"
     ]
    }
   ],
   "source": [
    "a = np.random.randint(0, 10, 4).reshape(2, 2)\n",
    "b = np.random.randint(0, 10, 4).reshape(2, 2)\n",
    "\n",
    "print(a)\n",
    "print(b)"
   ]
  },
  {
   "cell_type": "code",
   "execution_count": 26,
   "metadata": {},
   "outputs": [
    {
     "name": "stdout",
     "output_type": "stream",
     "text": [
      "[[45  8]\n",
      " [18  0]]\n",
      "[[45  8]\n",
      " [18  0]]\n",
      "[[69  5]\n",
      " [78  6]]\n"
     ]
    }
   ],
   "source": [
    "print(a*b) ## 원소별 배열 연산\n",
    "print(np.multiply(a, b)) ## 원소별 배열 연산\n",
    "print(np.dot(a, b)) ## 수학적 행렬 연산"
   ]
  },
  {
   "cell_type": "code",
   "execution_count": 27,
   "metadata": {},
   "outputs": [
    {
     "name": "stdout",
     "output_type": "stream",
     "text": [
      "[[5 8]\n",
      " [6 8]]\n",
      "[[5 6]\n",
      " [8 8]]\n",
      "[[5 6]\n",
      " [8 8]]\n",
      "[[5 6]\n",
      " [8 8]]\n"
     ]
    }
   ],
   "source": [
    "print(a)\n",
    "print(a.T) ## 전치 행렬\n",
    "print(a.swapaxes(0,1)) ## 축 교환 함수\n",
    "print(a.transpose(1,0))"
   ]
  },
  {
   "cell_type": "code",
   "execution_count": null,
   "metadata": {},
   "outputs": [],
   "source": []
  }
 ],
 "metadata": {
  "kernelspec": {
   "display_name": "Python 3",
   "language": "python",
   "name": "python3"
  },
  "language_info": {
   "codemirror_mode": {
    "name": "ipython",
    "version": 3
   },
   "file_extension": ".py",
   "mimetype": "text/x-python",
   "name": "python",
   "nbconvert_exporter": "python",
   "pygments_lexer": "ipython3",
   "version": "3.6.5"
  }
 },
 "nbformat": 4,
 "nbformat_minor": 2
}
